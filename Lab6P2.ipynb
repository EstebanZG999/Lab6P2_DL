{
 "cells": [
  {
   "cell_type": "markdown",
   "id": "efb399d6",
   "metadata": {
    "deletable": false,
    "editable": false,
    "nbgrader": {
     "cell_type": "markdown",
     "checksum": "396cf7fd19ea372a105699f6b8ad1ced",
     "grade": false,
     "grade_id": "cell-960e57285ca11555",
     "locked": true,
     "schema_version": 3,
     "solution": false,
     "task": false
    }
   },
   "source": [
    "# Laboratorio 6 Parte 1\n",
    "\n",
    "En este laboratorio, estaremos repasando los conceptos de Generative Adversarial Networks En la segunda parte nos acercaremos a esta arquitectura a través de buscar generar numeros que parecieran ser generados a mano. Esta vez ya no usaremos versiones deprecadas de la librería de PyTorch, por ende, creen un nuevo virtual env con las librerías más recientes que puedan por favor.\n",
    "\n",
    "Al igual que en laboratorios anteriores, para este laboratorio estaremos usando una herramienta para Jupyter Notebooks que facilitará la calificación, no solo asegurándo que ustedes tengan una nota pronto sino también mostrandoles su nota final al terminar el laboratorio.\n",
    "\n",
    "De nuevo me discupo si algo no sale bien, seguiremos mejorando conforme vayamos iterando. Siempre pido su comprensión y colaboración si algo no funciona como debería. \n",
    "\n",
    "Al igual que en el laboratorio pasado, estaremos usando la librería de Dr John Williamson et al de la University of Glasgow, además de ciertas piezas de código de Dr Bjorn Jensen de su curso de Introduction to Data Science and System de la University of Glasgow para la visualización de sus calificaciones. \n",
    "\n",
    "**NOTA:** Ahora tambien hay una tercera dependecia que se necesita instalar. Ver la celda de abajo por favor\n",
    "\n",
    "<script type=\"text/javascript\" src=\"https://cdn.mathjax.org/mathjax/latest/MathJax.js?config=TeX-AMS-MML_HTMLorMML\">\n",
    "</script>"
   ]
  },
  {
   "cell_type": "code",
   "execution_count": 18,
   "id": "5ab1dc80",
   "metadata": {
    "ExecuteTime": {
     "end_time": "2023-08-22T02:32:15.882007Z",
     "start_time": "2023-08-22T02:32:15.869542Z"
    },
    "deletable": false,
    "editable": false,
    "nbgrader": {
     "cell_type": "code",
     "checksum": "e8953431cdcb9173be3b8f52fc881188",
     "grade": false,
     "grade_id": "cell-2b0bb1b15da7bb83",
     "locked": true,
     "schema_version": 3,
     "solution": false,
     "task": false
    }
   },
   "outputs": [],
   "source": [
    "# Una vez instalada la librería por favor, recuerden volverla a comentar.\n",
    "#!pip install -U --force-reinstall --no-cache https://github.com/johnhw/jhwutils/zipball/master\n",
    "#!pip install scikit-image\n",
    "#!pip install -U --force-reinstall --no-cache https://github.com/AlbertS789/lautils/zipball/master"
   ]
  },
  {
   "cell_type": "code",
   "execution_count": 19,
   "id": "e812d454",
   "metadata": {
    "ExecuteTime": {
     "end_time": "2023-08-22T02:32:16.971429Z",
     "start_time": "2023-08-22T02:32:15.885010Z"
    },
    "deletable": false,
    "editable": false,
    "nbgrader": {
     "cell_type": "code",
     "checksum": "dd4f6222b9c1610179b2afe7b7b1e565",
     "grade": false,
     "grade_id": "cell-0a68c3e59d11e57e",
     "locked": true,
     "schema_version": 3,
     "solution": false,
     "task": false
    }
   },
   "outputs": [],
   "source": [
    "import numpy as np\n",
    "import copy\n",
    "import matplotlib.pyplot as plt\n",
    "import scipy\n",
    "from PIL import Image\n",
    "import os\n",
    "from collections import defaultdict\n",
    "\n",
    "#from IPython import display\n",
    "#from base64 import b64decode\n",
    "\n",
    "\n",
    "# Other imports\n",
    "from unittest.mock import patch\n",
    "from uuid import getnode as get_mac\n",
    "\n",
    "from jhwutils.checkarr import array_hash, check_hash, check_scalar, check_string, array_hash, _check_scalar\n",
    "import jhwutils.image_audio as ia\n",
    "import jhwutils.tick as tick\n",
    "from lautils.gradeutils import new_representation, hex_to_float, compare_numbers, compare_lists_by_percentage, calculate_coincidences_percentage\n",
    "\n",
    "###\n",
    "tick.reset_marks()\n",
    "\n",
    "%matplotlib inline"
   ]
  },
  {
   "cell_type": "code",
   "execution_count": 20,
   "id": "e65d8a78",
   "metadata": {
    "ExecuteTime": {
     "end_time": "2023-08-22T02:32:16.986829Z",
     "start_time": "2023-08-22T02:32:16.975426Z"
    },
    "deletable": false,
    "editable": false,
    "nbgrader": {
     "cell_type": "code",
     "checksum": "bf55c1d62fe07a3c141e2866a2e5e629",
     "grade": true,
     "grade_id": "cell-d562e375cf573f90",
     "locked": true,
     "points": 0,
     "schema_version": 3,
     "solution": false,
     "task": false
    }
   },
   "outputs": [],
   "source": [
    "# Celda escondida para utlidades necesarias, por favor NO edite esta celda\n"
   ]
  },
  {
   "cell_type": "markdown",
   "id": "8733cc0b",
   "metadata": {
    "deletable": false,
    "editable": false,
    "nbgrader": {
     "cell_type": "markdown",
     "checksum": "cc4559445bb9a374de897603f06e4f98",
     "grade": false,
     "grade_id": "cell-ba908918810d2476",
     "locked": true,
     "schema_version": 3,
     "solution": false,
     "task": false
    }
   },
   "source": [
    "###### Información del estudiante en dos variables\n",
    "\n",
    "* carne_1 : un string con su carne (e.g. \"12281\"), debe ser de al menos 5 caracteres.\n",
    "* firma_mecanografiada_1: un string con su nombre (e.g. \"Albero Suriano\") que se usará para la declaracion que este trabajo es propio (es decir, no hay plagio)\n",
    "* carne_2 : un string con su carne (e.g. \"12281\"), debe ser de al menos 5 caracteres.\n",
    "* firma_mecanografiada_2: un string con su nombre (e.g. \"Albero Suriano\") que se usará para la declaracion que este trabajo es propio (es decir, no hay plagio)"
   ]
  },
  {
   "cell_type": "code",
   "execution_count": 21,
   "id": "4543f0a2",
   "metadata": {
    "ExecuteTime": {
     "end_time": "2023-08-22T02:32:17.001841Z",
     "start_time": "2023-08-22T02:32:16.991849Z"
    },
    "deletable": false,
    "nbgrader": {
     "cell_type": "code",
     "checksum": "9f28f6bfc67c1fff50b64e1999a9228e",
     "grade": false,
     "grade_id": "cell-33843192727a72f7",
     "locked": false,
     "schema_version": 3,
     "solution": true,
     "task": false
    }
   },
   "outputs": [],
   "source": [
    "carne_1 = \"22305\"\n",
    "firma_mecanografiada_1 = \"Edwin Ortega\"\n",
    "carne_2 = \"22119\"\n",
    "firma_mecanografiada_2 = \"Esteban Zambrano\"\n",
    "# YOUR CODE HERE\n",
    "#raise NotImplementedError()"
   ]
  },
  {
   "cell_type": "code",
   "execution_count": 22,
   "id": "b81b055b",
   "metadata": {
    "ExecuteTime": {
     "end_time": "2023-08-22T02:32:17.032927Z",
     "start_time": "2023-08-22T02:32:17.006845Z"
    },
    "deletable": false,
    "editable": false,
    "nbgrader": {
     "cell_type": "code",
     "checksum": "df7bbc8427a7e0d52e6f8568ef1f864c",
     "grade": true,
     "grade_id": "cell-0e2b9b16091f7b69",
     "locked": true,
     "points": 0,
     "schema_version": 3,
     "solution": false,
     "task": false
    }
   },
   "outputs": [
    {
     "data": {
      "text/html": [
       "\n",
       "        <div class=\"alert alert-box alert-success\">\n",
       "        <h1> <!--{id:\"CORRECTMARK\", marks:\"0\"}--> \n",
       "         ✓ [0 marks] \n",
       "         </h1> </div>"
      ],
      "text/plain": [
       "<IPython.core.display.HTML object>"
      ]
     },
     "metadata": {},
     "output_type": "display_data"
    },
    {
     "data": {
      "text/html": [
       "\n",
       "        <div class=\"alert alert-box alert-success\">\n",
       "        <h1> <!--{id:\"CORRECTMARK\", marks:\"0\"}--> \n",
       "         ✓ [0 marks] \n",
       "         </h1> </div>"
      ],
      "text/plain": [
       "<IPython.core.display.HTML object>"
      ]
     },
     "metadata": {},
     "output_type": "display_data"
    }
   ],
   "source": [
    "# Deberia poder ver dos checkmarks verdes [0 marks], que indican que su información básica está OK \n",
    "\n",
    "with tick.marks(0): \n",
    "    assert(len(carne_1)>=5 and len(carne_2)>=5)\n",
    "\n",
    "with tick.marks(0):  \n",
    "    assert(len(firma_mecanografiada_1)>0 and len(firma_mecanografiada_2)>0)"
   ]
  },
  {
   "cell_type": "markdown",
   "id": "b30c3f6e",
   "metadata": {
    "deletable": false,
    "editable": false,
    "nbgrader": {
     "cell_type": "markdown",
     "checksum": "d3a36e67057ec9c60bb19ba1abc28af9",
     "grade": false,
     "grade_id": "cell-07f1f2b670a56f83",
     "locked": true,
     "schema_version": 3,
     "solution": false,
     "task": false
    }
   },
   "source": [
    "### Introducción\n",
    "\n",
    "**Créditos:** Esta parte de este laboratorio está tomado y basado en uno de los blogs de Renato Candido, así como las imagenes presentadas en este laboratorio a menos que se indique lo contrario.\n",
    "    \n",
    "Las redes generativas adversarias también pueden generar muestras de alta dimensionalidad, como imágenes. En este ejemplo, se va a utilizar una GAN para generar imágenes de dígitos escritos a mano. Para ello, se entrenarán los modelos utilizando el conjunto de datos MNIST de dígitos escritos a mano, que está incluido en el paquete torchvision.\n",
    "\n",
    "Dado que este ejemplo utiliza imágenes en el conjunto de datos de entrenamiento, los modelos necesitan ser más complejos, con un mayor número de parámetros. Esto hace que el proceso de entrenamiento sea más lento, llevando alrededor de dos minutos por época (aproximadamente) al ejecutarse en la CPU. Se necesitarán alrededor de cincuenta épocas para obtener un resultado relevante, por lo que el tiempo total de entrenamiento al usar una CPU es de alrededor de cien minutos.\n",
    "\n",
    "Para reducir el tiempo de entrenamiento, se puede utilizar una GPU si está disponible. Sin embargo, será necesario mover manualmente tensores y modelos a la GPU para usarlos en el proceso de entrenamiento.\n",
    "\n",
    "Se puede asegurar que el código se ejecutará en cualquier configuración creando un objeto de dispositivo que apunte a la CPU o, si está disponible, a la GPU. Más adelante, se utilizará este dispositivo para definir dónde deben crearse los tensores y los modelos, utilizando la GPU si está disponible."
   ]
  },
  {
   "cell_type": "code",
   "execution_count": 23,
   "id": "d63ae7c0",
   "metadata": {
    "ExecuteTime": {
     "end_time": "2023-08-22T02:32:18.218858Z",
     "start_time": "2023-08-22T02:32:17.036866Z"
    },
    "deletable": false,
    "editable": false,
    "nbgrader": {
     "cell_type": "code",
     "checksum": "a86c4dc01d989b755b457c82ece100f2",
     "grade": false,
     "grade_id": "cell-73c9a970144eb852",
     "locked": true,
     "schema_version": 3,
     "solution": false,
     "task": false
    }
   },
   "outputs": [],
   "source": [
    "import torch\n",
    "from torch import nn\n",
    "\n",
    "import math\n",
    "import matplotlib.pyplot as plt\n",
    "import torchvision\n",
    "import torchvision.transforms as transforms\n",
    "\n",
    "import random\n",
    "import numpy as np\n"
   ]
  },
  {
   "cell_type": "code",
   "execution_count": 24,
   "id": "2196ed82",
   "metadata": {
    "ExecuteTime": {
     "end_time": "2023-08-22T02:32:18.234575Z",
     "start_time": "2023-08-22T02:32:18.222653Z"
    },
    "deletable": false,
    "editable": false,
    "nbgrader": {
     "cell_type": "code",
     "checksum": "d48d1d3f27ec5ce8799df1449eaf915c",
     "grade": false,
     "grade_id": "cell-5ed57a938b409083",
     "locked": true,
     "schema_version": 3,
     "solution": false,
     "task": false
    }
   },
   "outputs": [],
   "source": [
    "seed_ = 111\n",
    "\n",
    "def seed_all(seed_):\n",
    "    random.seed(seed_)\n",
    "    np.random.seed(seed_)\n",
    "    torch.manual_seed(seed_)\n",
    "    torch.cuda.manual_seed(seed_)\n",
    "    torch.backends.cudnn.deterministic = True\n",
    "\n",
    "seed_all(seed_)"
   ]
  },
  {
   "cell_type": "code",
   "execution_count": 25,
   "id": "070a549b",
   "metadata": {
    "ExecuteTime": {
     "end_time": "2023-08-22T02:32:18.265132Z",
     "start_time": "2023-08-22T02:32:18.236524Z"
    },
    "deletable": false,
    "editable": false,
    "nbgrader": {
     "cell_type": "code",
     "checksum": "5e04485824c77936aee4394650adc2c6",
     "grade": false,
     "grade_id": "cell-85103baadb4ba8f6",
     "locked": true,
     "schema_version": 3,
     "solution": false,
     "task": false
    }
   },
   "outputs": [
    {
     "name": "stdout",
     "output_type": "stream",
     "text": [
      "cpu\n"
     ]
    }
   ],
   "source": [
    "device = \"\"\n",
    "if torch.cuda.is_available():\n",
    "    device = torch.device(\"cuda\")\n",
    "else:\n",
    "    device = torch.device(\"cpu\")\n",
    "print(device)"
   ]
  },
  {
   "cell_type": "markdown",
   "id": "8f8ff1b6",
   "metadata": {
    "deletable": false,
    "editable": false,
    "nbgrader": {
     "cell_type": "markdown",
     "checksum": "323ea4f803e0ef6c12c0925545f84ce8",
     "grade": false,
     "grade_id": "cell-f55e9f6ae74f5426",
     "locked": true,
     "schema_version": 3,
     "solution": false,
     "task": false
    }
   },
   "source": [
    "### Preparando la Data\n",
    "\n",
    "El conjunto de datos MNIST consta de imágenes en escala de grises de 28 × 28 píxeles de dígitos escritos a mano del 0 al 9. Para usarlos con PyTorch, será necesario realizar algunas conversiones. Para ello, se define transform, una función que se utilizará al cargar los datos:\n",
    "\n",
    "La función tiene dos partes:\n",
    "\n",
    "* transforms.ToTensor() convierte los datos en un tensor de PyTorch.\n",
    "* transforms.Normalize() convierte el rango de los coeficientes del tensor.\n",
    "\n",
    "Los coeficientes originales proporcionados por transforms.ToTensor() varían de 0 a 1, y dado que los fondos de las imágenes son negros, la mayoría de los coeficientes son iguales a 0 cuando se representan utilizando este rango.\n",
    "\n",
    "transforms.Normalize() cambia el rango de los coeficientes a -1 a 1 restando 0.5 de los coeficientes originales y dividiendo el resultado por 0.5. Con esta transformación, el número de elementos iguales a 0 en las muestras de entrada se reduce drásticamente, lo que ayuda en el entrenamiento de los modelos.\n",
    "\n",
    "Los argumentos de transforms.Normalize() son dos tuplas, (M₁, ..., Mₙ) y (S₁, ..., Sₙ), donde n representa el número de canales de las imágenes. Las imágenes en escala de grises como las del conjunto de datos MNIST tienen solo un canal, por lo que las tuplas tienen solo un valor. Luego, para cada canal i de la imagen, transforms.Normalize() resta Mᵢ de los coeficientes y divide el resultado por Sᵢ.\n",
    "\n",
    "Luego se pueden cargar los datos de entrenamiento utilizando torchvision.datasets.MNIST y realizar las conversiones utilizando transform\n",
    "\n",
    "El argumento download=True garantiza que la primera vez que se ejecute el código, el conjunto de datos MNIST se descargará y almacenará en el directorio actual, como se indica en el argumento root.\n",
    "\n",
    "Después que se ha creado train_set, se puede crear el cargador de datos como se hizo antes en la parte 1. \n",
    "\n",
    "Cabe decir que se puede utilizar Matplotlib para trazar algunas muestras de los datos de entrenamiento. Para mejorar la visualización, se puede usar cmap=gray_r para invertir el mapa de colores y representar los dígitos en negro sobre un fondo blanco:\n",
    "\n",
    "Como se puede ver más adelante, hay dígitos con diferentes estilos de escritura. A medida que la GAN aprende la distribución de los datos, también generará dígitos con diferentes estilos de escritura.\n"
   ]
  },
  {
   "cell_type": "code",
   "execution_count": 26,
   "id": "d1bdfa65",
   "metadata": {
    "ExecuteTime": {
     "end_time": "2023-08-22T02:32:18.280232Z",
     "start_time": "2023-08-22T02:32:18.267923Z"
    }
   },
   "outputs": [],
   "source": [
    "transform = transforms.Compose(\n",
    "    [transforms.ToTensor(), transforms.Normalize((0.5,), (0.5,))]\n",
    ")"
   ]
  },
  {
   "cell_type": "code",
   "execution_count": 27,
   "id": "7a4101b8",
   "metadata": {
    "ExecuteTime": {
     "end_time": "2023-08-22T02:32:18.328103Z",
     "start_time": "2023-08-22T02:32:18.283225Z"
    }
   },
   "outputs": [],
   "source": [
    "train_set = torchvision.datasets.MNIST(\n",
    "    root=\".\", train=True, download=True, transform=transform\n",
    ")"
   ]
  },
  {
   "cell_type": "code",
   "execution_count": 28,
   "id": "0739612d",
   "metadata": {
    "ExecuteTime": {
     "end_time": "2023-08-22T02:32:18.344090Z",
     "start_time": "2023-08-22T02:32:18.330099Z"
    }
   },
   "outputs": [],
   "source": [
    "batch_size = 32\n",
    "train_loader = torch.utils.data.DataLoader(\n",
    "    train_set, batch_size=batch_size, shuffle=True\n",
    ")"
   ]
  },
  {
   "cell_type": "code",
   "execution_count": 29,
   "id": "01243582",
   "metadata": {
    "ExecuteTime": {
     "end_time": "2023-08-22T02:32:18.930355Z",
     "start_time": "2023-08-22T02:32:18.346061Z"
    }
   },
   "outputs": [
    {
     "data": {
      "image/png": "[encoded data removed]",
      "text/plain": [
       "<Figure size 640x480 with 16 Axes>"
      ]
     },
     "metadata": {},
     "output_type": "display_data"
    }
   ],
   "source": [
    "real_samples, mnist_labels = next(iter(train_loader))\n",
    "for i in range(16):\n",
    "    ax = plt.subplot(4, 4, i + 1)\n",
    "    plt.imshow(real_samples[i].reshape(28, 28), cmap=\"gray_r\")\n",
    "    plt.xticks([])\n",
    "    plt.yticks([])"
   ]
  },
  {
   "cell_type": "markdown",
   "id": "8e107c15",
   "metadata": {
    "deletable": false,
    "editable": false,
    "nbgrader": {
     "cell_type": "markdown",
     "checksum": "38120892049041564fc93fafad39f448",
     "grade": false,
     "grade_id": "cell-e3c5a7ffdadd3780",
     "locked": true,
     "schema_version": 3,
     "solution": false,
     "task": false
    }
   },
   "source": [
    "### Implementando el Discriminador y el Generador\n",
    "\n",
    "En este caso, el discriminador es una red neuronal MLP (multi-layer perceptron) que recibe una imagen de 28 × 28 píxeles y proporciona la probabilidad de que la imagen pertenezca a los datos reales de entrenamiento.\n",
    "\n",
    "Para introducir los coeficientes de la imagen en la red neuronal MLP, se vectorizan para que la red neuronal reciba vectores con 784 coeficientes.\n",
    "\n",
    "La vectorización ocurre cuando se ejecuta .forward(), ya que la llamada a x.view() convierte la forma del tensor de entrada. En este caso, la forma original de la entrada \"x\" es 32 × 1 × 28 × 28, donde 32 es el tamaño del batch que se ha configurado. Después de la conversión, la forma de \"x\" se convierte en 32 × 784, con cada línea representando los coeficientes de una imagen del conjunto de entrenamiento.\n",
    "\n",
    "Para ejecutar el modelo de discriminador usando la GPU, hay que instanciarlo y enviarlo a la GPU con .to(). Para usar una GPU cuando haya una disponible, se puede enviar el modelo al objeto de dispositivo creado anteriormente.\n",
    "\n",
    "Dado que el generador va a generar datos más complejos, es necesario aumentar las dimensiones de la entrada desde el espacio latente. En este caso, el generador va a recibir una entrada de 100 dimensiones y proporcionará una salida con 784 coeficientes, que se organizarán en un tensor de 28 × 28 que representa una imagen.\n",
    "\n",
    "Luego, se utiliza la función tangente hiperbólica Tanh() como activación de la capa de salida, ya que los coeficientes de salida deben estar en el intervalo de -1 a 1 (por la normalización que se hizo anteriormente). Después, se instancia el generador y se envía a device para usar la GPU si está disponible.\n"
   ]
  },
  {
   "cell_type": "code",
   "execution_count": 30,
   "id": "fba9f289",
   "metadata": {
    "ExecuteTime": {
     "end_time": "2023-08-22T02:32:18.946524Z",
     "start_time": "2023-08-22T02:32:18.934357Z"
    },
    "deletable": false,
    "nbgrader": {
     "cell_type": "code",
     "checksum": "8cc3ef45cd94833b3fd76352e2925191",
     "grade": false,
     "grade_id": "cell-357a9d8872fc2dee",
     "locked": false,
     "schema_version": 3,
     "solution": true,
     "task": false
    }
   },
   "outputs": [],
   "source": [
    "class Discriminator(nn.Module):\n",
    "    def __init__(self):\n",
    "        super().__init__()\n",
    "        self.model = nn.Sequential(\n",
    "            # Aprox 11 lineas\n",
    "            # lineal de la entrada dicha y salida 1024\n",
    "            # ReLU\n",
    "            # Dropout de 30%\n",
    "            # Lineal de la entrada correspondiente y salida 512\n",
    "            # ReLU\n",
    "            # Dropout de 30%\n",
    "            # Lienal de la entrada correspondiente y salida 256\n",
    "            # ReLU\n",
    "            # Dropout de 30%\n",
    "            # Lineal de la entrada correspondiente y salida 1\n",
    "            # Sigmoide\n",
    "            # YOUR CODE HERE\n",
    "            nn.Linear(784, 1024),\n",
    "            nn.ReLU(inplace=True),\n",
    "            nn.Dropout(p=0.3),\n",
    "\n",
    "            nn.Linear(1024, 512),\n",
    "            nn.ReLU(inplace=True),\n",
    "            nn.Dropout(p=0.3),\n",
    "\n",
    "            nn.Linear(512, 256),\n",
    "            nn.ReLU(inplace=True),\n",
    "            nn.Dropout(p=0.3),\n",
    "\n",
    "            nn.Linear(256, 1),\n",
    "            nn.Sigmoid(),\n",
    "            #raise NotImplementedError()\n",
    "        )\n",
    "\n",
    "    def forward(self, x):\n",
    "        x = x.view(x.size(0), 784)\n",
    "        output = self.model(x)\n",
    "        return output"
   ]
  },
  {
   "cell_type": "code",
   "execution_count": 31,
   "id": "c3fd5c16",
   "metadata": {
    "ExecuteTime": {
     "end_time": "2023-08-22T02:32:18.962448Z",
     "start_time": "2023-08-22T02:32:18.948456Z"
    },
    "deletable": false,
    "nbgrader": {
     "cell_type": "code",
     "checksum": "67a3d43e6d9552591af4c5a43198f6a4",
     "grade": false,
     "grade_id": "cell-56373e11c10164af",
     "locked": false,
     "schema_version": 3,
     "solution": true,
     "task": false
    }
   },
   "outputs": [],
   "source": [
    "class Generator(nn.Module):\n",
    "    def __init__(self):\n",
    "        super().__init__()\n",
    "        self.model = nn.Sequential(\n",
    "            # Aprox 8 lienas para\n",
    "            # Lineal input = 100, output = 256\n",
    "            # ReLU\n",
    "            # Lineal output = 512\n",
    "            # ReLU\n",
    "            # Lineal output = 1024\n",
    "            # ReLU\n",
    "            # Lineal output = 784\n",
    "            # Tanh\n",
    "            # YOUR CODE HERE\n",
    "            nn.Linear(100, 256),\n",
    "            nn.ReLU(inplace=True),\n",
    "\n",
    "            nn.Linear(256, 512),\n",
    "            nn.ReLU(inplace=True),\n",
    "\n",
    "            nn.Linear(512, 1024),\n",
    "            nn.ReLU(inplace=True),\n",
    "\n",
    "            nn.Linear(1024, 784),\n",
    "            nn.Tanh(),\n",
    "            #raise NotImplementedError()\n",
    "        )\n",
    "\n",
    "    def forward(self, x):\n",
    "        output = self.model(x)\n",
    "        output = output.view(x.size(0), 1, 28, 28)\n",
    "        return output"
   ]
  },
  {
   "cell_type": "markdown",
   "id": "e224265b",
   "metadata": {
    "deletable": false,
    "editable": false,
    "nbgrader": {
     "cell_type": "markdown",
     "checksum": "a0019dc58f0c3b34224e4944018344f9",
     "grade": false,
     "grade_id": "cell-c86623f084dad402",
     "locked": true,
     "schema_version": 3,
     "solution": false,
     "task": false
    }
   },
   "source": [
    "### Entrenando los Modelos\n",
    "\n",
    "Para entrenar los modelos, es necesario definir los parámetros de entrenamiento y los optimizadores como se hizo en la parte anterior.\n",
    "\n",
    "Para obtener un mejor resultado, se disminuye la tasa de aprendizaje de la primera parte. También se establece el número de épocas en 10 para reducir el tiempo de entrenamiento.\n",
    "\n",
    "El ciclo de entrenamiento es muy similar al que se usó en la parte previa. Note como se envían los datos de entrenamiento a device para usar la GPU si está disponible\n",
    "\n",
    "Algunos de los tensores no necesitan ser enviados explícitamente a la GPU con device. Este es el caso de generated_samples, que ya se envió a una GPU disponible, ya que latent_space_samples y generator se enviaron a la GPU previamente.\n",
    "\n",
    "Dado que esta parte presenta modelos más complejos, el entrenamiento puede llevar un poco más de tiempo. Después de que termine, se pueden verificar los resultados generando algunas muestras de dígitos escritos a mano."
   ]
  },
  {
   "cell_type": "code",
   "execution_count": 33,
   "id": "d683206b",
   "metadata": {
    "ExecuteTime": {
     "end_time": "2023-08-22T02:50:48.313937Z",
     "start_time": "2023-08-22T02:32:18.964443Z"
    },
    "deletable": false,
    "nbgrader": {
     "cell_type": "code",
     "checksum": "0a8b50274d5796c306901ddc539a893c",
     "grade": false,
     "grade_id": "cell-edaa87568da78e27",
     "locked": false,
     "schema_version": 3,
     "solution": true,
     "task": false
    }
   },
   "outputs": [
    {
     "name": "stdout",
     "output_type": "stream",
     "text": [
      "Epoch: 0 Loss D.: 0.5447583198547363\n",
      "Epoch: 0 Loss G.: 0.5354331135749817\n",
      "Epoch: 1 Loss D.: 0.14977379143238068\n",
      "Epoch: 1 Loss G.: 3.950129985809326\n",
      "Epoch: 2 Loss D.: 0.018134882673621178\n",
      "Epoch: 2 Loss G.: 5.532219409942627\n",
      "Epoch: 3 Loss D.: 0.12037845700979233\n",
      "Epoch: 3 Loss G.: 6.478612899780273\n",
      "Epoch: 4 Loss D.: 0.23902152478694916\n",
      "Epoch: 4 Loss G.: 5.036696910858154\n",
      "Epoch: 5 Loss D.: 0.01097055897116661\n",
      "Epoch: 5 Loss G.: 5.592850685119629\n",
      "Epoch: 6 Loss D.: 0.06977031379938126\n",
      "Epoch: 6 Loss G.: 7.137715816497803\n",
      "Epoch: 7 Loss D.: 0.03613889589905739\n",
      "Epoch: 7 Loss G.: 6.289949893951416\n",
      "Epoch: 8 Loss D.: 0.07113546878099442\n",
      "Epoch: 8 Loss G.: 5.588266849517822\n",
      "Epoch: 9 Loss D.: 0.056949008256196976\n",
      "Epoch: 9 Loss G.: 4.015388488769531\n",
      "Epoch: 10 Loss D.: 0.0430624820291996\n",
      "Epoch: 10 Loss G.: 4.506839275360107\n",
      "Epoch: 11 Loss D.: 0.14084435999393463\n",
      "Epoch: 11 Loss G.: 4.129697322845459\n",
      "Epoch: 12 Loss D.: 0.10757382214069366\n",
      "Epoch: 12 Loss G.: 2.816453695297241\n",
      "Epoch: 13 Loss D.: 0.07089339196681976\n",
      "Epoch: 13 Loss G.: 6.376092433929443\n",
      "Epoch: 14 Loss D.: 0.09317195415496826\n",
      "Epoch: 14 Loss G.: 3.3050806522369385\n",
      "Epoch: 15 Loss D.: 0.22455456852912903\n",
      "Epoch: 15 Loss G.: 2.516127347946167\n",
      "Epoch: 16 Loss D.: 0.3112574815750122\n",
      "Epoch: 16 Loss G.: 1.8078055381774902\n",
      "Epoch: 17 Loss D.: 0.20822596549987793\n",
      "Epoch: 17 Loss G.: 1.9441989660263062\n",
      "Epoch: 18 Loss D.: 0.34079596400260925\n",
      "Epoch: 18 Loss G.: 1.7823926210403442\n",
      "Epoch: 19 Loss D.: 0.4821440875530243\n",
      "Epoch: 19 Loss G.: 1.8999645709991455\n",
      "Epoch: 20 Loss D.: 0.2600726783275604\n",
      "Epoch: 20 Loss G.: 2.0778961181640625\n",
      "Epoch: 21 Loss D.: 0.4044423997402191\n",
      "Epoch: 21 Loss G.: 1.601731777191162\n",
      "Epoch: 22 Loss D.: 0.3738076090812683\n",
      "Epoch: 22 Loss G.: 1.3858495950698853\n",
      "Epoch: 23 Loss D.: 0.43015170097351074\n",
      "Epoch: 23 Loss G.: 1.9002646207809448\n",
      "Epoch: 24 Loss D.: 0.4229101240634918\n",
      "Epoch: 24 Loss G.: 1.304917335510254\n",
      "Epoch: 25 Loss D.: 0.38306212425231934\n",
      "Epoch: 25 Loss G.: 1.5809621810913086\n",
      "Epoch: 26 Loss D.: 0.4742525815963745\n",
      "Epoch: 26 Loss G.: 1.325297236442566\n",
      "Epoch: 27 Loss D.: 0.4242301881313324\n",
      "Epoch: 27 Loss G.: 1.3256868124008179\n",
      "Epoch: 28 Loss D.: 0.40492650866508484\n",
      "Epoch: 28 Loss G.: 1.3621472120285034\n",
      "Epoch: 29 Loss D.: 0.5763850808143616\n",
      "Epoch: 29 Loss G.: 1.1628799438476562\n",
      "Epoch: 30 Loss D.: 0.5138472318649292\n",
      "Epoch: 30 Loss G.: 1.422682523727417\n",
      "Epoch: 31 Loss D.: 0.4844411611557007\n",
      "Epoch: 31 Loss G.: 1.2569456100463867\n",
      "Epoch: 32 Loss D.: 0.46446073055267334\n",
      "Epoch: 32 Loss G.: 1.1941293478012085\n",
      "Epoch: 33 Loss D.: 0.4536142945289612\n",
      "Epoch: 33 Loss G.: 1.2523729801177979\n",
      "Epoch: 34 Loss D.: 0.6454610228538513\n",
      "Epoch: 34 Loss G.: 1.1875616312026978\n",
      "Epoch: 35 Loss D.: 0.49450844526290894\n",
      "Epoch: 35 Loss G.: 1.3153023719787598\n",
      "Epoch: 36 Loss D.: 0.42978283762931824\n",
      "Epoch: 36 Loss G.: 1.1569335460662842\n",
      "Epoch: 37 Loss D.: 0.37398093938827515\n",
      "Epoch: 37 Loss G.: 1.3492518663406372\n",
      "Epoch: 38 Loss D.: 0.6077409386634827\n",
      "Epoch: 38 Loss G.: 1.1495083570480347\n",
      "Epoch: 39 Loss D.: 0.50002121925354\n",
      "Epoch: 39 Loss G.: 1.0306411981582642\n",
      "Epoch: 40 Loss D.: 0.5643644332885742\n",
      "Epoch: 40 Loss G.: 1.1008213758468628\n",
      "Epoch: 41 Loss D.: 0.45965737104415894\n",
      "Epoch: 41 Loss G.: 1.2557933330535889\n",
      "Epoch: 42 Loss D.: 0.516827404499054\n",
      "Epoch: 42 Loss G.: 1.3890066146850586\n",
      "Epoch: 43 Loss D.: 0.520575761795044\n",
      "Epoch: 43 Loss G.: 1.2278354167938232\n",
      "Epoch: 44 Loss D.: 0.46058306097984314\n",
      "Epoch: 44 Loss G.: 1.3545606136322021\n",
      "Epoch: 45 Loss D.: 0.5724412798881531\n",
      "Epoch: 45 Loss G.: 1.0914793014526367\n",
      "Epoch: 46 Loss D.: 0.5624915361404419\n",
      "Epoch: 46 Loss G.: 1.2460218667984009\n",
      "Epoch: 47 Loss D.: 0.5926064848899841\n",
      "Epoch: 47 Loss G.: 1.2111365795135498\n",
      "Epoch: 48 Loss D.: 0.5246210098266602\n",
      "Epoch: 48 Loss G.: 1.0621989965438843\n",
      "Epoch: 49 Loss D.: 0.5567672848701477\n",
      "Epoch: 49 Loss G.: 1.1745319366455078\n"
     ]
    }
   ],
   "source": [
    "list_images = []\n",
    "\n",
    "# Aprox 1 linea para que decidan donde guardar un set de imagen que vamos a generar de las graficas\n",
    "from pathlib import Path\n",
    "\n",
    "path_imgs = Path(\"./gan_frames\")\n",
    "path_imgs.mkdir(parents=True, exist_ok=True)\n",
    "# YOUR CODE HERE\n",
    "#raise NotImplementedError()\n",
    "\n",
    "#seed_all(seed_)\n",
    "\n",
    "discriminator = Discriminator().to(device=device)\n",
    "generator = Generator().to(device=device)\n",
    "\n",
    "lr = 0.0001\n",
    "num_epochs = 50\n",
    "loss_function = nn.BCELoss()\n",
    "\n",
    "optimizer_discriminator = torch.optim.Adam(discriminator.parameters(), lr=lr)\n",
    "optimizer_generator = torch.optim.Adam(generator.parameters(), lr=lr)\n",
    "\n",
    "for epoch in range(num_epochs):\n",
    "    for n, (real_samples, mnist_labels) in enumerate(train_loader):\n",
    "        # Data for training the discriminator\n",
    "        real_samples = real_samples.to(device=device)\n",
    "        real_samples_labels = torch.ones((batch_size, 1)).to(\n",
    "            device=device\n",
    "        )\n",
    "        latent_space_samples = torch.randn((batch_size, 100)).to(\n",
    "            device=device\n",
    "        )\n",
    "        generated_samples = generator(latent_space_samples)\n",
    "        generated_samples_labels = torch.zeros((batch_size, 1)).to(\n",
    "            device=device\n",
    "        )\n",
    "        all_samples = torch.cat((real_samples, generated_samples))\n",
    "        all_samples_labels = torch.cat(\n",
    "            (real_samples_labels, generated_samples_labels)\n",
    "        )\n",
    "\n",
    "        # Training the discriminator\n",
    "        # Aprox 2 lineas para\n",
    "        # setear el discriminador en zero_grad\n",
    "        # output_discriminator =\n",
    "        # YOUR CODE HERE\n",
    "        optimizer_discriminator.zero_grad()\n",
    "        output_discriminator = discriminator(all_samples)\n",
    "\n",
    "        #raise NotImplementedError()\n",
    "        loss_discriminator = loss_function(\n",
    "            output_discriminator, all_samples_labels\n",
    "        )\n",
    "        # Aprox dos lineas para\n",
    "        # llamar al paso backward sobre el loss_discriminator\n",
    "        # llamar al optimizador sobre optimizer_discriminator\n",
    "        # YOUR CODE HERE\n",
    "        loss_discriminator.backward()\n",
    "        optimizer_discriminator.step()\n",
    "        #raise NotImplementedError()\n",
    "\n",
    "        # Data for training the generator\n",
    "        latent_space_samples = torch.randn((batch_size, 100)).to(\n",
    "            device=device\n",
    "        )\n",
    "\n",
    "        # Training the generator\n",
    "        # Training the generator\n",
    "        # Aprox 2 lineas para\n",
    "        # setear el generador en zero_grad\n",
    "        # output_discriminator =\n",
    "        # YOUR CODE HERE\n",
    "        optimizer_generator.zero_grad()\n",
    "        generated_samples = generator(latent_space_samples)\n",
    "        #raise NotImplementedError()\n",
    "        output_discriminator_generated = discriminator(generated_samples)\n",
    "        loss_generator = loss_function(\n",
    "            output_discriminator_generated, real_samples_labels\n",
    "        )\n",
    "        \n",
    "        # Aprox dos lineas para\n",
    "        # llamar al paso backward sobre el loss_generator\n",
    "        # llamar al optimizador sobre optimizer_generator\n",
    "        # YOUR CODE HERE\n",
    "        loss_generator.backward()\n",
    "        optimizer_generator.step()\n",
    "        #raise NotImplementedError()\n",
    "        \n",
    "        # Guardamos las imagenes\n",
    "        if epoch % 2 == 0 and n ==  batch_size - 1:\n",
    "            generated_samples_detached = generated_samples.cpu().detach()\n",
    "            for i in range(16):\n",
    "                ax = plt.subplot(4, 4, i + 1)\n",
    "                plt.imshow(generated_samples_detached[i].reshape(28, 28), cmap=\"gray_r\")\n",
    "                plt.xticks([])\n",
    "                plt.yticks([])\n",
    "                plt.title(\"Epoch \"+str(epoch))\n",
    "            name = path_imgs / f\"epoch_mnist{epoch}.jpg\"\n",
    "            plt.savefig(name, format=\"jpg\")\n",
    "            plt.close()\n",
    "            list_images.append(name)\n",
    "\n",
    "        # Show loss\n",
    "        if n == batch_size - 1:\n",
    "            print(f\"Epoch: {epoch} Loss D.: {loss_discriminator}\")\n",
    "            print(f\"Epoch: {epoch} Loss G.: {loss_generator}\")"
   ]
  },
  {
   "cell_type": "code",
   "execution_count": 34,
   "id": "81898cb5",
   "metadata": {
    "ExecuteTime": {
     "end_time": "2023-08-22T03:57:03.229901Z",
     "start_time": "2023-08-22T03:57:03.197988Z"
    },
    "deletable": false,
    "editable": false,
    "nbgrader": {
     "cell_type": "code",
     "checksum": "2e2079693599da7942f900dbe88770b7",
     "grade": true,
     "grade_id": "cell-a58098ba2caa0b26",
     "locked": true,
     "points": 70,
     "schema_version": 3,
     "solution": false,
     "task": false
    }
   },
   "outputs": [
    {
     "name": "stderr",
     "output_type": "stream",
     "text": [
      "c:\\Universidad Desktop\\2025\\Segundo\\DeepLearning\\Lab6P2_DL\\.venv\\Lib\\site-packages\\lautils\\gradeutils.py:5: UserWarning: Converting a tensor with requires_grad=True to a scalar may lead to unexpected behavior.\n",
      "Consider using tensor.detach() first. (Triggered internally at C:\\actions-runner\\_work\\pytorch\\pytorch\\pytorch\\torch\\csrc\\autograd\\generated\\python_variable_methods.cpp:836.)\n",
      "  num = float(num)\n"
     ]
    },
    {
     "data": {
      "text/html": [
       "\n",
       "        <div class=\"alert alert-box alert-success\">\n",
       "        <h1> <!--{id:\"CORRECTMARK\", marks:\"35\"}--> \n",
       "         ✓ [35 marks] \n",
       "         </h1> </div>"
      ],
      "text/plain": [
       "<IPython.core.display.HTML object>"
      ]
     },
     "metadata": {},
     "output_type": "display_data"
    },
    {
     "data": {
      "text/html": [
       "\n",
       "        <div class=\"alert alert-box alert-success\">\n",
       "        <h1> <!--{id:\"CORRECTMARK\", marks:\"35\"}--> \n",
       "         ✓ [35 marks] \n",
       "         </h1> </div>"
      ],
      "text/plain": [
       "<IPython.core.display.HTML object>"
      ]
     },
     "metadata": {},
     "output_type": "display_data"
    }
   ],
   "source": [
    "with tick.marks(35):        \n",
    "    assert compare_numbers(new_representation(loss_discriminator), \"3c3d\", '0x1.3333333333333p-1')\n",
    "    \n",
    "with tick.marks(35):        \n",
    "    assert compare_numbers(new_representation(loss_generator), \"3c3d\", '0x1.8000000000000p+0')"
   ]
  },
  {
   "cell_type": "markdown",
   "id": "d2b44fea",
   "metadata": {
    "deletable": false,
    "editable": false,
    "nbgrader": {
     "cell_type": "markdown",
     "checksum": "1835c8f0424587ed5733d3f5bf2010fd",
     "grade": false,
     "grade_id": "cell-b032c7ab009e6583",
     "locked": true,
     "schema_version": 3,
     "solution": false,
     "task": false
    }
   },
   "source": [
    "### Validación del Resultado\n",
    "\n",
    "Para generar dígitos escritos a mano, es necesario tomar algunas muestras aleatorias del espacio latente y alimentarlas al generador.\n",
    "\n",
    "Para trazar generated_samples, es necesario mover los datos de vuelta a la CPU en caso de que estén en la GPU. Para ello, simplemente se puede llamar a .cpu(). Como se hizo anteriormente, también es necesario llamar a .detach() antes de usar Matplotlib para trazar los datos.\n",
    "\n",
    "La salida debería ser dígitos que se asemejen a los datos de entrenamiento. Después de cincuenta épocas de entrenamiento, hay varios dígitos generados que se asemejan a los reales. Se pueden mejorar los resultados considerando más épocas de entrenamiento. Al igual que en la parte anterior, al utilizar un tensor de muestras de espacio latente fijo y alimentarlo al generador al final de cada época durante el proceso de entrenamiento, se puede visualizar la evolución del entrenamiento.\n",
    "\n",
    "Se puede observar que al comienzo del proceso de entrenamiento, las imágenes generadas son completamente aleatorias. A medida que avanza el entrenamiento, el generador aprende la distribución de los datos reales y, a algunas épocas, algunos dígitos generados ya se asemejan a los datos reales."
   ]
  },
  {
   "cell_type": "code",
   "execution_count": null,
   "id": "d6e2fe54",
   "metadata": {
    "ExecuteTime": {
     "end_time": "2023-08-22T02:50:48.329896Z",
     "start_time": "2023-08-22T02:50:48.316932Z"
    },
    "deletable": false,
    "editable": false,
    "nbgrader": {
     "cell_type": "code",
     "checksum": "4ed040a37736c07df2885d4fab86402a",
     "grade": false,
     "grade_id": "cell-16bce6a15761ba73",
     "locked": true,
     "schema_version": 3,
     "solution": false,
     "task": false
    }
   },
   "outputs": [],
   "source": [
    "latent_space_samples = torch.randn(batch_size, 100).to(device=device)\n",
    "generated_samples = generator(latent_space_samples)"
   ]
  },
  {
   "cell_type": "code",
   "execution_count": null,
   "id": "37a0f554",
   "metadata": {
    "ExecuteTime": {
     "end_time": "2023-08-22T02:50:48.818303Z",
     "start_time": "2023-08-22T02:50:48.330894Z"
    },
    "deletable": false,
    "editable": false,
    "nbgrader": {
     "cell_type": "code",
     "checksum": "8875dff0174dc3e534e435a23a1d063e",
     "grade": false,
     "grade_id": "cell-68da1116c572c3e1",
     "locked": true,
     "schema_version": 3,
     "solution": false,
     "task": false
    }
   },
   "outputs": [],
   "source": [
    "generated_samples = generated_samples.cpu().detach()\n",
    "for i in range(16):\n",
    "    ax = plt.subplot(4, 4, i + 1)\n",
    "    plt.imshow(generated_samples[i].reshape(28, 28), cmap=\"gray_r\")\n",
    "    plt.xticks([])\n",
    "    plt.yticks([])"
   ]
  },
  {
   "cell_type": "code",
   "execution_count": null,
   "id": "195ada8f",
   "metadata": {
    "ExecuteTime": {
     "end_time": "2023-08-22T02:50:49.432339Z",
     "start_time": "2023-08-22T02:50:48.819350Z"
    },
    "deletable": false,
    "editable": false,
    "nbgrader": {
     "cell_type": "code",
     "checksum": "83fb6f96cf465e443360dcf434452451",
     "grade": false,
     "grade_id": "cell-27d616fff4a9bf41",
     "locked": true,
     "schema_version": 3,
     "solution": false,
     "task": false
    }
   },
   "outputs": [],
   "source": [
    "# Visualización del progreso de entrenamiento\n",
    "# Para que esto se ve bien, por favor reinicien el kernel y corran todo el notebook\n",
    "\n",
    "from PIL import Image\n",
    "from IPython.display import display, Image as IPImage\n",
    "\n",
    "images = [Image.open(path) for path in list_images]\n",
    "\n",
    "# Save the images as an animated GIF\n",
    "gif_path = \"animation.gif\"  # Specify the path for the GIF file\n",
    "images[0].save(gif_path, save_all=True, append_images=images[1:], loop=0, duration=1000)\n",
    "display(IPImage(filename=gif_path))"
   ]
  },
  {
   "cell_type": "markdown",
   "id": "9925f482",
   "metadata": {
    "deletable": false,
    "editable": false,
    "nbgrader": {
     "cell_type": "markdown",
     "checksum": "15eba323649e31de1f199f7c11ea86ac",
     "grade": false,
     "grade_id": "cell-f01a78f6bc7a73d7",
     "locked": true,
     "schema_version": 3,
     "solution": false,
     "task": false
    }
   },
   "source": [
    "*Las respuestas de estas preguntas representan el 30% de este notebook*\n",
    "\n",
    "**PREGUNTAS:**\n",
    "* ¿Qué diferencias hay entre los modelos usados en la primera parte y los usados en esta parte?\n",
    "* ¿Qué tan bien se han creado las imagenes esperadas?\n",
    "* ¿Cómo mejoraría los modelos?\n",
    "* Observe el GIF creado, y describa la evolución que va viendo al pasar de las epocas"
   ]
  },
  {
   "cell_type": "code",
   "execution_count": null,
   "id": "8449e82b",
   "metadata": {
    "ExecuteTime": {
     "end_time": "2023-08-22T02:50:49.447394Z",
     "start_time": "2023-08-22T02:50:49.434364Z"
    },
    "deletable": false,
    "editable": false,
    "nbgrader": {
     "cell_type": "code",
     "checksum": "a23020e936db417d66b9a063e98ddf5c",
     "grade": true,
     "grade_id": "cell-59b73392f4da914f",
     "locked": true,
     "points": 0,
     "schema_version": 3,
     "solution": false,
     "task": false
    }
   },
   "outputs": [],
   "source": [
    "\n",
    "print()\n",
    "print(\"La fraccion de abajo muestra su rendimiento basado en las partes visibles de este laboratorio\")\n",
    "tick.summarise_marks() # "
   ]
  }
 ],
 "metadata": {
  "hide_input": false,
  "kernelspec": {
   "display_name": ".venv (3.13.3)",
   "language": "python",
   "name": "python3"
  },
  "language_info": {
   "codemirror_mode": {
    "name": "ipython",
    "version": 3
   },
   "file_extension": ".py",
   "mimetype": "text/x-python",
   "name": "python",
   "nbconvert_exporter": "python",
   "pygments_lexer": "ipython3",
   "version": "3.13.3"
  },
  "toc": {
   "base_numbering": 1,
   "nav_menu": {},
   "number_sections": true,
   "sideBar": true,
   "skip_h1_title": false,
   "title_cell": "Table of Contents",
   "title_sidebar": "Contents",
   "toc_cell": false,
   "toc_position": {},
   "toc_section_display": true,
   "toc_window_display": false
  },
  "varInspector": {
   "cols": {
    "lenName": 16,
    "lenType": 16,
    "lenVar": 40
   },
   "kernels_config": {
    "python": {
     "delete_cmd_postfix": "",
     "delete_cmd_prefix": "del ",
     "library": "var_list.py",
     "varRefreshCmd": "print(var_dic_list())"
    },
    "r": {
     "delete_cmd_postfix": ") ",
     "delete_cmd_prefix": "rm(",
     "library": "var_list.r",
     "varRefreshCmd": "cat(var_dic_list()) "
    }
   },
   "types_to_exclude": [
    "module",
    "function",
    "builtin_function_or_method",
    "instance",
    "_Feature"
   ],
   "window_display": false
  }
 },
 "nbformat": 4,
 "nbformat_minor": 5
}
